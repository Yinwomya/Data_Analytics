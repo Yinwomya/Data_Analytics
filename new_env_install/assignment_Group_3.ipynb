{
 "cells": [
  {
   "cell_type": "markdown",
   "id": "02a45296-aa54-4a3f-a1b0-5b4cd6462bfa",
   "metadata": {},
   "source": [
    "# Import Libraries"
   ]
  },
  {
   "cell_type": "code",
   "execution_count": 1,
   "id": "e186344a-849e-474b-9986-1d83a81dc946",
   "metadata": {},
   "outputs": [],
   "source": [
    "import numpy as np\n",
    "import pandas as pd\n",
    "import matplotlib.pyplot as plt\n",
    "import seaborn as sns"
   ]
  },
  {
   "cell_type": "markdown",
   "id": "1e385855-e00d-4d51-96d4-e8cdeaf1bec5",
   "metadata": {},
   "source": [
    "## Loading Data and creating a copy of the data"
   ]
  },
  {
   "cell_type": "code",
   "execution_count": 2,
   "id": "80762fc9-5050-417a-b42e-223270c74b30",
   "metadata": {},
   "outputs": [],
   "source": [
    "## using pandas to read our data into a DataFrame"
   ]
  },
  {
   "cell_type": "code",
   "execution_count": 3,
   "id": "f2d76d5f-06f1-46de-b9f1-460be1931786",
   "metadata": {},
   "outputs": [],
   "source": [
    "car_data = pd.read_csv(\"Datasets/car_servicing.csv\", encoding='latin-1')"
   ]
  },
  {
   "cell_type": "code",
   "execution_count": 4,
   "id": "f6f2d9f6-7cf9-403d-9374-7adbc4266757",
   "metadata": {},
   "outputs": [],
   "source": [
    "## creating a copy "
   ]
  },
  {
   "cell_type": "code",
   "execution_count": 5,
   "id": "150e97e5-c140-4a01-93dc-4c336c8c7186",
   "metadata": {},
   "outputs": [],
   "source": [
    "car_data = car_data.copy()"
   ]
  },
  {
   "cell_type": "markdown",
   "id": "b6de0d35-4029-4d46-b8b4-6f58e5d0649a",
   "metadata": {},
   "source": [
    "## Overviewing And Understanding The car Dataframe"
   ]
  },
  {
   "cell_type": "code",
   "execution_count": 6,
   "id": "3d993bb5-80ce-4e14-b15c-ee44e5ebce07",
   "metadata": {},
   "outputs": [
    {
     "data": {
      "text/html": [
       "<div>\n",
       "<style scoped>\n",
       "    .dataframe tbody tr th:only-of-type {\n",
       "        vertical-align: middle;\n",
       "    }\n",
       "\n",
       "    .dataframe tbody tr th {\n",
       "        vertical-align: top;\n",
       "    }\n",
       "\n",
       "    .dataframe thead th {\n",
       "        text-align: right;\n",
       "    }\n",
       "</style>\n",
       "<table border=\"1\" class=\"dataframe\">\n",
       "  <thead>\n",
       "    <tr style=\"text-align: right;\">\n",
       "      <th></th>\n",
       "      <th>dateCrawled</th>\n",
       "      <th>name</th>\n",
       "      <th>seller</th>\n",
       "      <th>offerType</th>\n",
       "      <th>price</th>\n",
       "      <th>abtest</th>\n",
       "      <th>vehicleType</th>\n",
       "      <th>yearOfRegistration</th>\n",
       "      <th>gearbox</th>\n",
       "      <th>powerPS</th>\n",
       "      <th>model</th>\n",
       "      <th>kilometer</th>\n",
       "      <th>monthOfRegistration</th>\n",
       "      <th>fuelType</th>\n",
       "      <th>brand</th>\n",
       "      <th>notRepairedDamage</th>\n",
       "      <th>dateCreated</th>\n",
       "      <th>postalCode</th>\n",
       "      <th>lastSeen</th>\n",
       "    </tr>\n",
       "  </thead>\n",
       "  <tbody>\n",
       "    <tr>\n",
       "      <th>0</th>\n",
       "      <td>17/03/2016 16:54</td>\n",
       "      <td>GOLF_4_1_4__3TÜRER</td>\n",
       "      <td>private</td>\n",
       "      <td>offer</td>\n",
       "      <td>1500</td>\n",
       "      <td>test</td>\n",
       "      <td>small car</td>\n",
       "      <td>2001</td>\n",
       "      <td>manual</td>\n",
       "      <td>75</td>\n",
       "      <td>golf</td>\n",
       "      <td>150000</td>\n",
       "      <td>6</td>\n",
       "      <td>petrol</td>\n",
       "      <td>volkswagen</td>\n",
       "      <td>no</td>\n",
       "      <td>17/03/2016 0:00</td>\n",
       "      <td>91074</td>\n",
       "      <td>17/03/2016 17:40</td>\n",
       "    </tr>\n",
       "    <tr>\n",
       "      <th>1</th>\n",
       "      <td>31/03/2016 17:25</td>\n",
       "      <td>Skoda_Fabia_1.4_TDI_PD_Classic</td>\n",
       "      <td>private</td>\n",
       "      <td>offer</td>\n",
       "      <td>3600</td>\n",
       "      <td>test</td>\n",
       "      <td>small car</td>\n",
       "      <td>2008</td>\n",
       "      <td>manual</td>\n",
       "      <td>69</td>\n",
       "      <td>fabia</td>\n",
       "      <td>90000</td>\n",
       "      <td>7</td>\n",
       "      <td>diesel</td>\n",
       "      <td>skoda</td>\n",
       "      <td>no</td>\n",
       "      <td>31/03/2016 0:00</td>\n",
       "      <td>60437</td>\n",
       "      <td>06/04/2016 10:17</td>\n",
       "    </tr>\n",
       "    <tr>\n",
       "      <th>2</th>\n",
       "      <td>04/04/2016 17:36</td>\n",
       "      <td>BMW_316i___e36_Limousine___Bastlerfahrzeug__Ex...</td>\n",
       "      <td>private</td>\n",
       "      <td>offer</td>\n",
       "      <td>650</td>\n",
       "      <td>test</td>\n",
       "      <td>limousine</td>\n",
       "      <td>1995</td>\n",
       "      <td>manual</td>\n",
       "      <td>102</td>\n",
       "      <td>3er</td>\n",
       "      <td>150000</td>\n",
       "      <td>10</td>\n",
       "      <td>petrol</td>\n",
       "      <td>bmw</td>\n",
       "      <td>yes</td>\n",
       "      <td>04/04/2016 0:00</td>\n",
       "      <td>33775</td>\n",
       "      <td>06/04/2016 19:17</td>\n",
       "    </tr>\n",
       "    <tr>\n",
       "      <th>3</th>\n",
       "      <td>01/04/2016 20:48</td>\n",
       "      <td>Peugeot_206_CC_110_Platinum</td>\n",
       "      <td>private</td>\n",
       "      <td>offer</td>\n",
       "      <td>2200</td>\n",
       "      <td>test</td>\n",
       "      <td>cabrio</td>\n",
       "      <td>2004</td>\n",
       "      <td>manual</td>\n",
       "      <td>109</td>\n",
       "      <td>2_reihe</td>\n",
       "      <td>150000</td>\n",
       "      <td>8</td>\n",
       "      <td>petrol</td>\n",
       "      <td>peugeot</td>\n",
       "      <td>no</td>\n",
       "      <td>01/04/2016 0:00</td>\n",
       "      <td>67112</td>\n",
       "      <td>05/04/2016 18:18</td>\n",
       "    </tr>\n",
       "    <tr>\n",
       "      <th>4</th>\n",
       "      <td>21/03/2016 18:54</td>\n",
       "      <td>VW_Derby_Bj_80__Scheunenfund</td>\n",
       "      <td>private</td>\n",
       "      <td>offer</td>\n",
       "      <td>0</td>\n",
       "      <td>test</td>\n",
       "      <td>limousine</td>\n",
       "      <td>1980</td>\n",
       "      <td>manual</td>\n",
       "      <td>50</td>\n",
       "      <td>others</td>\n",
       "      <td>40000</td>\n",
       "      <td>7</td>\n",
       "      <td>petrol</td>\n",
       "      <td>volkswagen</td>\n",
       "      <td>no</td>\n",
       "      <td>21/03/2016 0:00</td>\n",
       "      <td>19348</td>\n",
       "      <td>25/03/2016 16:47</td>\n",
       "    </tr>\n",
       "  </tbody>\n",
       "</table>\n",
       "</div>"
      ],
      "text/plain": [
       "        dateCrawled                                               name  \\\n",
       "0  17/03/2016 16:54                                 GOLF_4_1_4__3TÜRER   \n",
       "1  31/03/2016 17:25                     Skoda_Fabia_1.4_TDI_PD_Classic   \n",
       "2  04/04/2016 17:36  BMW_316i___e36_Limousine___Bastlerfahrzeug__Ex...   \n",
       "3  01/04/2016 20:48                        Peugeot_206_CC_110_Platinum   \n",
       "4  21/03/2016 18:54                       VW_Derby_Bj_80__Scheunenfund   \n",
       "\n",
       "    seller offerType  price abtest vehicleType  yearOfRegistration gearbox  \\\n",
       "0  private     offer   1500   test   small car                2001  manual   \n",
       "1  private     offer   3600   test   small car                2008  manual   \n",
       "2  private     offer    650   test   limousine                1995  manual   \n",
       "3  private     offer   2200   test      cabrio                2004  manual   \n",
       "4  private     offer      0   test   limousine                1980  manual   \n",
       "\n",
       "   powerPS    model  kilometer  monthOfRegistration fuelType       brand  \\\n",
       "0       75     golf     150000                    6   petrol  volkswagen   \n",
       "1       69    fabia      90000                    7   diesel       skoda   \n",
       "2      102      3er     150000                   10   petrol         bmw   \n",
       "3      109  2_reihe     150000                    8   petrol     peugeot   \n",
       "4       50   others      40000                    7   petrol  volkswagen   \n",
       "\n",
       "  notRepairedDamage      dateCreated  postalCode          lastSeen  \n",
       "0                no  17/03/2016 0:00       91074  17/03/2016 17:40  \n",
       "1                no  31/03/2016 0:00       60437  06/04/2016 10:17  \n",
       "2               yes  04/04/2016 0:00       33775  06/04/2016 19:17  \n",
       "3                no  01/04/2016 0:00       67112  05/04/2016 18:18  \n",
       "4                no  21/03/2016 0:00       19348  25/03/2016 16:47  "
      ]
     },
     "execution_count": 6,
     "metadata": {},
     "output_type": "execute_result"
    }
   ],
   "source": [
    "## lest see the first five rows\n",
    "car_data.head()"
   ]
  },
  {
   "cell_type": "code",
   "execution_count": 7,
   "id": "8896eb7a-84f7-44d6-a38f-a3e10a5c08a9",
   "metadata": {},
   "outputs": [
    {
     "data": {
      "text/html": [
       "<div>\n",
       "<style scoped>\n",
       "    .dataframe tbody tr th:only-of-type {\n",
       "        vertical-align: middle;\n",
       "    }\n",
       "\n",
       "    .dataframe tbody tr th {\n",
       "        vertical-align: top;\n",
       "    }\n",
       "\n",
       "    .dataframe thead th {\n",
       "        text-align: right;\n",
       "    }\n",
       "</style>\n",
       "<table border=\"1\" class=\"dataframe\">\n",
       "  <thead>\n",
       "    <tr style=\"text-align: right;\">\n",
       "      <th></th>\n",
       "      <th>dateCrawled</th>\n",
       "      <th>name</th>\n",
       "      <th>seller</th>\n",
       "      <th>offerType</th>\n",
       "      <th>price</th>\n",
       "      <th>abtest</th>\n",
       "      <th>vehicleType</th>\n",
       "      <th>yearOfRegistration</th>\n",
       "      <th>gearbox</th>\n",
       "      <th>powerPS</th>\n",
       "      <th>model</th>\n",
       "      <th>kilometer</th>\n",
       "      <th>monthOfRegistration</th>\n",
       "      <th>fuelType</th>\n",
       "      <th>brand</th>\n",
       "      <th>notRepairedDamage</th>\n",
       "      <th>dateCreated</th>\n",
       "      <th>postalCode</th>\n",
       "      <th>lastSeen</th>\n",
       "    </tr>\n",
       "  </thead>\n",
       "  <tbody>\n",
       "    <tr>\n",
       "      <th>260960</th>\n",
       "      <td>19/03/2016 19:53</td>\n",
       "      <td>turbo_defekt</td>\n",
       "      <td>private</td>\n",
       "      <td>offer</td>\n",
       "      <td>3200</td>\n",
       "      <td>control</td>\n",
       "      <td>limousine</td>\n",
       "      <td>2004</td>\n",
       "      <td>manual</td>\n",
       "      <td>225</td>\n",
       "      <td>leon</td>\n",
       "      <td>150000</td>\n",
       "      <td>5</td>\n",
       "      <td>petrol</td>\n",
       "      <td>seat</td>\n",
       "      <td>yes</td>\n",
       "      <td>19/03/2016 0:00</td>\n",
       "      <td>96465</td>\n",
       "      <td>19/03/2016 20:44</td>\n",
       "    </tr>\n",
       "    <tr>\n",
       "      <th>260961</th>\n",
       "      <td>27/03/2016 20:36</td>\n",
       "      <td>Opel_Zafira_1.6_Elegance_TÜV_12/16</td>\n",
       "      <td>private</td>\n",
       "      <td>offer</td>\n",
       "      <td>1150</td>\n",
       "      <td>control</td>\n",
       "      <td>bus</td>\n",
       "      <td>2000</td>\n",
       "      <td>manual</td>\n",
       "      <td>0</td>\n",
       "      <td>zafira</td>\n",
       "      <td>150000</td>\n",
       "      <td>3</td>\n",
       "      <td>petrol</td>\n",
       "      <td>opel</td>\n",
       "      <td>no</td>\n",
       "      <td>27/03/2016 0:00</td>\n",
       "      <td>26624</td>\n",
       "      <td>29/03/2016 10:17</td>\n",
       "    </tr>\n",
       "    <tr>\n",
       "      <th>260962</th>\n",
       "      <td>05/03/2016 19:56</td>\n",
       "      <td>Smart_smart_leistungssteigerung_100ps</td>\n",
       "      <td>private</td>\n",
       "      <td>offer</td>\n",
       "      <td>1199</td>\n",
       "      <td>test</td>\n",
       "      <td>cabrio</td>\n",
       "      <td>2000</td>\n",
       "      <td>automatic</td>\n",
       "      <td>101</td>\n",
       "      <td>fortwo</td>\n",
       "      <td>125000</td>\n",
       "      <td>3</td>\n",
       "      <td>petrol</td>\n",
       "      <td>smart</td>\n",
       "      <td>no</td>\n",
       "      <td>05/03/2016 0:00</td>\n",
       "      <td>26135</td>\n",
       "      <td>11/03/2016 18:17</td>\n",
       "    </tr>\n",
       "    <tr>\n",
       "      <th>260963</th>\n",
       "      <td>19/03/2016 18:57</td>\n",
       "      <td>Volkswagen_Multivan_T4_TDI_7DC_UY2</td>\n",
       "      <td>private</td>\n",
       "      <td>offer</td>\n",
       "      <td>9200</td>\n",
       "      <td>test</td>\n",
       "      <td>bus</td>\n",
       "      <td>1996</td>\n",
       "      <td>manual</td>\n",
       "      <td>102</td>\n",
       "      <td>transporter</td>\n",
       "      <td>150000</td>\n",
       "      <td>3</td>\n",
       "      <td>diesel</td>\n",
       "      <td>volkswagen</td>\n",
       "      <td>no</td>\n",
       "      <td>19/03/2016 0:00</td>\n",
       "      <td>87439</td>\n",
       "      <td>07/04/2016 7:15</td>\n",
       "    </tr>\n",
       "    <tr>\n",
       "      <th>260964</th>\n",
       "      <td>07/03/2016 19:39</td>\n",
       "      <td>BMW_M135i_vollausgestattet_NP_52.720____Euro</td>\n",
       "      <td>private</td>\n",
       "      <td>offer</td>\n",
       "      <td>28990</td>\n",
       "      <td>control</td>\n",
       "      <td>limousine</td>\n",
       "      <td>2013</td>\n",
       "      <td>manual</td>\n",
       "      <td>320</td>\n",
       "      <td>m_reihe</td>\n",
       "      <td>50000</td>\n",
       "      <td>8</td>\n",
       "      <td>petrol</td>\n",
       "      <td>bmw</td>\n",
       "      <td>no</td>\n",
       "      <td>07/03/2016 0:00</td>\n",
       "      <td>73326</td>\n",
       "      <td>22/03/2016 3:17</td>\n",
       "    </tr>\n",
       "  </tbody>\n",
       "</table>\n",
       "</div>"
      ],
      "text/plain": [
       "             dateCrawled                                          name  \\\n",
       "260960  19/03/2016 19:53                                  turbo_defekt   \n",
       "260961  27/03/2016 20:36            Opel_Zafira_1.6_Elegance_TÜV_12/16   \n",
       "260962  05/03/2016 19:56         Smart_smart_leistungssteigerung_100ps   \n",
       "260963  19/03/2016 18:57            Volkswagen_Multivan_T4_TDI_7DC_UY2   \n",
       "260964  07/03/2016 19:39  BMW_M135i_vollausgestattet_NP_52.720____Euro   \n",
       "\n",
       "         seller offerType  price   abtest vehicleType  yearOfRegistration  \\\n",
       "260960  private     offer   3200  control   limousine                2004   \n",
       "260961  private     offer   1150  control         bus                2000   \n",
       "260962  private     offer   1199     test      cabrio                2000   \n",
       "260963  private     offer   9200     test         bus                1996   \n",
       "260964  private     offer  28990  control   limousine                2013   \n",
       "\n",
       "          gearbox  powerPS        model  kilometer  monthOfRegistration  \\\n",
       "260960     manual      225         leon     150000                    5   \n",
       "260961     manual        0       zafira     150000                    3   \n",
       "260962  automatic      101       fortwo     125000                    3   \n",
       "260963     manual      102  transporter     150000                    3   \n",
       "260964     manual      320      m_reihe      50000                    8   \n",
       "\n",
       "       fuelType       brand notRepairedDamage      dateCreated  postalCode  \\\n",
       "260960   petrol        seat               yes  19/03/2016 0:00       96465   \n",
       "260961   petrol        opel                no  27/03/2016 0:00       26624   \n",
       "260962   petrol       smart                no  05/03/2016 0:00       26135   \n",
       "260963   diesel  volkswagen                no  19/03/2016 0:00       87439   \n",
       "260964   petrol         bmw                no  07/03/2016 0:00       73326   \n",
       "\n",
       "                lastSeen  \n",
       "260960  19/03/2016 20:44  \n",
       "260961  29/03/2016 10:17  \n",
       "260962  11/03/2016 18:17  \n",
       "260963   07/04/2016 7:15  \n",
       "260964   22/03/2016 3:17  "
      ]
     },
     "execution_count": 7,
     "metadata": {},
     "output_type": "execute_result"
    }
   ],
   "source": [
    "## lest see the last five rows\n",
    "car_data.tail()"
   ]
  },
  {
   "cell_type": "code",
   "execution_count": 8,
   "id": "c7e45786-1dd1-4f6a-b4e9-44adfc4f24c8",
   "metadata": {},
   "outputs": [
    {
     "data": {
      "text/plain": [
       "4958335"
      ]
     },
     "execution_count": 8,
     "metadata": {},
     "output_type": "execute_result"
    }
   ],
   "source": [
    "## lets check the size of the data\n",
    "car_data.size"
   ]
  },
  {
   "cell_type": "code",
   "execution_count": 9,
   "id": "836efcea-b80c-48e6-9af2-55e186a40fb1",
   "metadata": {},
   "outputs": [
    {
     "name": "stdout",
     "output_type": "stream",
     "text": [
      "Total Number of Rows: 260965 => Total Number of Colunmns: 19\n"
     ]
    }
   ],
   "source": [
    "print(f\"Total Number of Rows: {car_data.shape[0]} => Total Number of Colunmns: {car_data.shape[1]}\")"
   ]
  },
  {
   "cell_type": "code",
   "execution_count": 10,
   "id": "4c9b7fdd-ab2a-4fcc-b0a3-3d0f558727ef",
   "metadata": {},
   "outputs": [
    {
     "data": {
      "text/plain": [
       "RangeIndex(start=0, stop=260965, step=1)"
      ]
     },
     "execution_count": 10,
     "metadata": {},
     "output_type": "execute_result"
    }
   ],
   "source": [
    "## lets display index\n",
    "car_data.index"
   ]
  },
  {
   "cell_type": "code",
   "execution_count": 11,
   "id": "811e31b6-d015-4459-892c-6c4a85a28880",
   "metadata": {},
   "outputs": [
    {
     "data": {
      "text/plain": [
       "Index(['dateCrawled', 'name', 'seller', 'offerType', 'price', 'abtest',\n",
       "       'vehicleType', 'yearOfRegistration', 'gearbox', 'powerPS', 'model',\n",
       "       'kilometer', 'monthOfRegistration', 'fuelType', 'brand',\n",
       "       'notRepairedDamage', 'dateCreated', 'postalCode', 'lastSeen'],\n",
       "      dtype='object')"
      ]
     },
     "execution_count": 11,
     "metadata": {},
     "output_type": "execute_result"
    }
   ],
   "source": [
    "## lest display columns\n",
    "car_data.columns"
   ]
  },
  {
   "cell_type": "code",
   "execution_count": 12,
   "id": "b7084211-67d4-46de-87f3-ce8bd285a382",
   "metadata": {},
   "outputs": [
    {
     "data": {
      "text/plain": [
       "dateCrawled            object\n",
       "name                   object\n",
       "seller                 object\n",
       "offerType              object\n",
       "price                   int64\n",
       "abtest                 object\n",
       "vehicleType            object\n",
       "yearOfRegistration      int64\n",
       "gearbox                object\n",
       "powerPS                 int64\n",
       "model                  object\n",
       "kilometer               int64\n",
       "monthOfRegistration     int64\n",
       "fuelType               object\n",
       "brand                  object\n",
       "notRepairedDamage      object\n",
       "dateCreated            object\n",
       "postalCode              int64\n",
       "lastSeen               object\n",
       "dtype: object"
      ]
     },
     "execution_count": 12,
     "metadata": {},
     "output_type": "execute_result"
    }
   ],
   "source": [
    "## lets check the columns type\n",
    "car_data.dtypes"
   ]
  },
  {
   "cell_type": "code",
   "execution_count": 13,
   "id": "6f5e174e-df0e-4beb-a02b-30db14363d78",
   "metadata": {},
   "outputs": [
    {
     "name": "stdout",
     "output_type": "stream",
     "text": [
      "<class 'pandas.core.frame.DataFrame'>\n",
      "RangeIndex: 260965 entries, 0 to 260964\n",
      "Data columns (total 19 columns):\n",
      " #   Column               Non-Null Count   Dtype \n",
      "---  ------               --------------   ----- \n",
      " 0   dateCrawled          260965 non-null  object\n",
      " 1   name                 260965 non-null  object\n",
      " 2   seller               260965 non-null  object\n",
      " 3   offerType            260965 non-null  object\n",
      " 4   price                260965 non-null  int64 \n",
      " 5   abtest               260965 non-null  object\n",
      " 6   vehicleType          260965 non-null  object\n",
      " 7   yearOfRegistration   260965 non-null  int64 \n",
      " 8   gearbox              260965 non-null  object\n",
      " 9   powerPS              260965 non-null  int64 \n",
      " 10  model                260965 non-null  object\n",
      " 11  kilometer            260965 non-null  int64 \n",
      " 12  monthOfRegistration  260965 non-null  int64 \n",
      " 13  fuelType             260965 non-null  object\n",
      " 14  brand                260965 non-null  object\n",
      " 15  notRepairedDamage    260965 non-null  object\n",
      " 16  dateCreated          260965 non-null  object\n",
      " 17  postalCode           260965 non-null  int64 \n",
      " 18  lastSeen             260965 non-null  object\n",
      "dtypes: int64(6), object(13)\n",
      "memory usage: 37.8+ MB\n"
     ]
    }
   ],
   "source": [
    "## lets get a concise summary of our data\n",
    "car_data.info()"
   ]
  },
  {
   "cell_type": "markdown",
   "id": "64a96e9c-b327-4184-a279-58ebd064a136",
   "metadata": {},
   "source": [
    "## lets check for unique instances in the following columns\n",
    "  - dateCrawled\n",
    "  - name\n",
    "  - seller\n",
    "  - offerType  \n",
    "  - abtest\n",
    "  - vehicleType\n",
    "  - gearbox\n",
    "  - model\n",
    "  - fuelType\n",
    "  - brand\n",
    "  - notRepairedDamage\n",
    "  - dateCreated\n",
    "  - lastSeen"
   ]
  },
  {
   "cell_type": "code",
   "execution_count": 14,
   "id": "5b8c6139-a5cf-4636-9ec0-5b59c617a6c7",
   "metadata": {},
   "outputs": [
    {
     "name": "stdout",
     "output_type": "stream",
     "text": [
      "['01/04/2016 0:06' '01/04/2016 0:10' '01/04/2016 0:25' ...\n",
      " '31/03/2016 9:55' '31/03/2016 9:56' '31/03/2016 9:57']\n"
     ]
    }
   ],
   "source": [
    "print(np.unique(car_data['dateCrawled']))"
   ]
  },
  {
   "cell_type": "code",
   "execution_count": 15,
   "id": "d6abcf2a-9021-4dd5-9c38-7bc522c61759",
   "metadata": {},
   "outputs": [
    {
     "name": "stdout",
     "output_type": "stream",
     "text": [
      "['!!!!!!!!!!!!!!!!!!!!!!!!__GOLF_3_CABRIO___!!!!!!!!!!!!!!!!!!!!!!!'\n",
      " '!!!!!!!!!!!!!!Renault_Clio_5_Tuerig_Servolenkung_!!!!!!!!!!!!!!!!!'\n",
      " '!!!!!!!!!!!!_Seat_Toledo_1M_!!!!!!!!!!!' ...\n",
      " 'Ökologisch___Elektrisch___Bezahlbar.__Fiat_New_500E'\n",
      " 'Über_ein_Jahr_fahrspass_mit_faltdach' 'Übernahme_Leasingvertrag']\n"
     ]
    }
   ],
   "source": [
    "print(np.unique(car_data['name']))"
   ]
  },
  {
   "cell_type": "code",
   "execution_count": 16,
   "id": "a2c10e78-d062-4dcb-82b3-c3a89460a541",
   "metadata": {},
   "outputs": [
    {
     "name": "stdout",
     "output_type": "stream",
     "text": [
      "['commercial' 'private']\n"
     ]
    }
   ],
   "source": [
    "print(np.unique(car_data['seller']))"
   ]
  },
  {
   "cell_type": "code",
   "execution_count": 17,
   "id": "ac71b65f-a042-414d-9c66-010f96df81d1",
   "metadata": {},
   "outputs": [
    {
     "name": "stdout",
     "output_type": "stream",
     "text": [
      "['offer' 'request']\n"
     ]
    }
   ],
   "source": [
    "print(np.unique(car_data['offerType']))"
   ]
  },
  {
   "cell_type": "code",
   "execution_count": 18,
   "id": "3c43d219-b9c3-4510-8258-9939aea8869f",
   "metadata": {},
   "outputs": [
    {
     "name": "stdout",
     "output_type": "stream",
     "text": [
      "['control' 'test']\n"
     ]
    }
   ],
   "source": [
    "print(np.unique(car_data['abtest']))"
   ]
  },
  {
   "cell_type": "code",
   "execution_count": 19,
   "id": "25afbb03-4f30-4548-9ec6-48c8c33cf5b9",
   "metadata": {},
   "outputs": [
    {
     "name": "stdout",
     "output_type": "stream",
     "text": [
      "['bus' 'cabrio' 'coupe' 'limousine' 'others' 'small car' 'station wagon'\n",
      " 'suv']\n"
     ]
    }
   ],
   "source": [
    "print(np.unique(car_data['vehicleType']))"
   ]
  },
  {
   "cell_type": "code",
   "execution_count": 20,
   "id": "455c4a85-10a1-4b23-a63c-5f40d2da3779",
   "metadata": {},
   "outputs": [
    {
     "name": "stdout",
     "output_type": "stream",
     "text": [
      "['automatic' 'manual']\n"
     ]
    }
   ],
   "source": [
    "print(np.unique(car_data['gearbox']))"
   ]
  },
  {
   "cell_type": "code",
   "execution_count": 21,
   "id": "559cf31e-15bc-41ae-a5c1-20e45e53f864",
   "metadata": {},
   "outputs": [
    {
     "name": "stdout",
     "output_type": "stream",
     "text": [
      "['100' '145' '147' '156' '159' '1_reihe' '1er' '200' '2_reihe' '300c'\n",
      " '3_reihe' '3er' '4_reihe' '500' '5_reihe' '5er' '601' '6_reihe' '6er'\n",
      " '7er' '80' '850' '90' '900' '9000' '911' 'a1' 'a2' 'a3' 'a4' 'a5' 'a6'\n",
      " 'a8' 'a_klasse' 'accord' 'agila' 'alhambra' 'almera' 'altea' 'amarok'\n",
      " 'antara' 'arosa' 'astra' 'auris' 'avensis' 'aveo' 'aygo' 'b_klasse'\n",
      " 'b_max' 'beetle' 'berlingo' 'bora' 'boxster' 'bravo' 'c1' 'c2' 'c3' 'c4'\n",
      " 'c5' 'c_klasse' 'c_max' 'c_reihe' 'caddy' 'calibra' 'captiva' 'carisma'\n",
      " 'carnival' 'cayenne' 'cc' 'ceed' 'charade' 'cherokee' 'citigo' 'civic'\n",
      " 'cl' 'clio' 'clk' 'clubman' 'colt' 'combo' 'cooper' 'cordoba' 'corolla'\n",
      " 'corsa' 'cr_reihe' 'croma' 'crossfire' 'cuore' 'cx_reihe' 'defender'\n",
      " 'delta' 'discovery' 'discovery_sport' 'doblo' 'ducato' 'duster'\n",
      " 'e_klasse' 'elefantino' 'eos' 'escort' 'espace' 'exeo' 'fabia' 'fiesta'\n",
      " 'focus' 'forester' 'forfour' 'fortwo' 'fox' 'freelander' 'fusion'\n",
      " 'g_klasse' 'galant' 'galaxy' 'getz' 'gl' 'glk' 'golf' 'grand' 'i3'\n",
      " 'i_reihe' 'ibiza' 'impreza' 'insignia' 'jazz' 'jetta' 'jimny' 'juke'\n",
      " 'justy' 'ka' 'kadett' 'kaefer' 'kalina' 'kalos' 'kangoo' 'kappa' 'kuga'\n",
      " 'laguna' 'lancer' 'lanos' 'legacy' 'leon' 'lodgy' 'logan' 'lupo' 'lybra'\n",
      " 'm_klasse' 'm_reihe' 'materia' 'matiz' 'megane' 'meriva' 'micra' 'mii'\n",
      " 'modus' 'mondeo' 'move' 'musa' 'mustang' 'mx_reihe' 'navara' 'niva'\n",
      " 'note' 'nubira' 'octavia' 'omega' 'one' 'others' 'outlander' 'pajero'\n",
      " 'panda' 'passat' 'phaeton' 'picanto' 'polo' 'primera' 'ptcruiser' 'punto'\n",
      " 'q3' 'q5' 'q7' 'qashqai' 'r19' 'range_rover' 'range_rover_evoque'\n",
      " 'range_rover_sport' 'rangerover' 'rav' 'rio' 'roadster' 'roomster'\n",
      " 'rx_reihe' 's60' 's_klasse' 's_max' 's_type' 'samara' 'sandero' 'santa'\n",
      " 'scenic' 'scirocco' 'seicento' 'serie_2' 'serie_3' 'sharan' 'signum'\n",
      " 'sirion' 'sl' 'slk' 'sorento' 'spark' 'spider' 'sportage' 'sprinter'\n",
      " 'stilo' 'superb' 'swift' 'terios' 'tigra' 'tiguan' 'toledo' 'touareg'\n",
      " 'touran' 'transit' 'transporter' 'tt' 'tucson' 'twingo' 'up' 'v40' 'v50'\n",
      " 'v60' 'v70' 'v_klasse' 'vectra' 'verso' 'viano' 'vito' 'vivaro' 'voyager'\n",
      " 'wrangler' 'x_reihe' 'x_trail' 'x_type' 'xc_reihe' 'yaris' 'yeti'\n",
      " 'ypsilon' 'z_reihe' 'zafira']\n"
     ]
    }
   ],
   "source": [
    "print(np.unique(car_data['model']))"
   ]
  },
  {
   "cell_type": "code",
   "execution_count": 22,
   "id": "d37ff8f9-59ef-4d66-aa37-323a31de9d88",
   "metadata": {},
   "outputs": [
    {
     "name": "stdout",
     "output_type": "stream",
     "text": [
      "['cng' 'diesel' 'electro' 'hybrid' 'lpg' 'other' 'petrol']\n"
     ]
    }
   ],
   "source": [
    "print(np.unique(car_data['fuelType']))"
   ]
  },
  {
   "cell_type": "code",
   "execution_count": 23,
   "id": "74fac436-198e-4871-b08a-873b8b48df83",
   "metadata": {},
   "outputs": [
    {
     "name": "stdout",
     "output_type": "stream",
     "text": [
      "['alfa_romeo' 'audi' 'bmw' 'chevrolet' 'chrysler' 'citroen' 'dacia'\n",
      " 'daewoo' 'daihatsu' 'fiat' 'ford' 'honda' 'hyundai' 'jaguar' 'jeep' 'kia'\n",
      " 'lada' 'lancia' 'land_rover' 'mazda' 'mercedes_benz' 'mini' 'mitsubishi'\n",
      " 'nissan' 'opel' 'peugeot' 'porsche' 'renault' 'rover' 'saab' 'seat'\n",
      " 'skoda' 'smart' 'subaru' 'suzuki' 'toyota' 'trabant' 'volkswagen' 'volvo']\n"
     ]
    }
   ],
   "source": [
    "print(np.unique(car_data['brand']))"
   ]
  },
  {
   "cell_type": "code",
   "execution_count": 24,
   "id": "ddc3abc9-c9df-4e88-ab61-eda0ddd7dd08",
   "metadata": {},
   "outputs": [
    {
     "name": "stdout",
     "output_type": "stream",
     "text": [
      "['no' 'yes']\n"
     ]
    }
   ],
   "source": [
    "print(np.unique(car_data['notRepairedDamage']))"
   ]
  },
  {
   "cell_type": "code",
   "execution_count": 25,
   "id": "33dbf8dc-b562-4510-92b2-7e1d504a38a6",
   "metadata": {},
   "outputs": [
    {
     "name": "stdout",
     "output_type": "stream",
     "text": [
      "['01/02/2016 0:00' '01/03/2016 0:00' '01/04/2016 0:00' '02/01/2016 0:00'\n",
      " '02/02/2016 0:00' '02/03/2016 0:00' '02/04/2016 0:00' '02/11/2015 0:00'\n",
      " '03/02/2016 0:00' '03/03/2016 0:00' '03/04/2016 0:00' '04/02/2016 0:00'\n",
      " '04/03/2016 0:00' '04/04/2016 0:00' '04/09/2015 0:00' '05/02/2016 0:00'\n",
      " '05/03/2016 0:00' '05/04/2016 0:00' '05/12/2015 0:00' '06/01/2016 0:00'\n",
      " '06/02/2016 0:00' '06/03/2016 0:00' '06/04/2016 0:00' '06/12/2015 0:00'\n",
      " '07/01/2016 0:00' '07/02/2016 0:00' '07/03/2016 0:00' '07/04/2016 0:00'\n",
      " '07/08/2015 0:00' '08/01/2016 0:00' '08/02/2016 0:00' '08/03/2016 0:00'\n",
      " '08/11/2015 0:00' '09/02/2016 0:00' '09/03/2016 0:00' '09/09/2015 0:00'\n",
      " '10/01/2016 0:00' '10/02/2016 0:00' '10/03/2016 0:00' '10/08/2015 0:00'\n",
      " '10/11/2015 0:00' '11/02/2016 0:00' '11/03/2016 0:00' '12/02/2016 0:00'\n",
      " '12/03/2016 0:00' '12/11/2015 0:00' '13/01/2016 0:00' '13/02/2016 0:00'\n",
      " '13/03/2016 0:00' '13/11/2015 0:00' '14/01/2016 0:00' '14/02/2016 0:00'\n",
      " '14/03/2016 0:00' '14/10/2015 0:00' '15/01/2016 0:00' '15/02/2016 0:00'\n",
      " '15/03/2016 0:00' '16/02/2016 0:00' '16/03/2016 0:00' '17/01/2016 0:00'\n",
      " '17/02/2016 0:00' '17/03/2016 0:00' '17/11/2015 0:00' '17/12/2015 0:00'\n",
      " '18/01/2016 0:00' '18/02/2016 0:00' '18/03/2016 0:00' '19/01/2016 0:00'\n",
      " '19/02/2016 0:00' '19/03/2016 0:00' '20/01/2016 0:00' '20/02/2016 0:00'\n",
      " '20/03/2015 0:00' '20/03/2016 0:00' '21/02/2016 0:00' '21/03/2016 0:00'\n",
      " '22/02/2016 0:00' '22/03/2016 0:00' '23/01/2016 0:00' '23/02/2016 0:00'\n",
      " '23/03/2016 0:00' '24/01/2016 0:00' '24/02/2016 0:00' '24/03/2016 0:00'\n",
      " '24/11/2015 0:00' '25/01/2016 0:00' '25/02/2016 0:00' '25/03/2016 0:00'\n",
      " '26/01/2016 0:00' '26/02/2016 0:00' '26/03/2016 0:00' '27/01/2016 0:00'\n",
      " '27/02/2016 0:00' '27/03/2016 0:00' '27/12/2015 0:00' '28/01/2016 0:00'\n",
      " '28/02/2016 0:00' '28/03/2016 0:00' '28/12/2015 0:00' '29/01/2016 0:00'\n",
      " '29/02/2016 0:00' '29/03/2016 0:00' '30/01/2016 0:00' '30/03/2016 0:00'\n",
      " '30/12/2015 0:00' '31/01/2016 0:00' '31/03/2016 0:00']\n"
     ]
    }
   ],
   "source": [
    "print(np.unique(car_data['dateCreated']))"
   ]
  },
  {
   "cell_type": "code",
   "execution_count": 26,
   "id": "7e5ac55a-a219-4512-b845-2ceef2dfe852",
   "metadata": {},
   "outputs": [
    {
     "name": "stdout",
     "output_type": "stream",
     "text": [
      "['01/04/2016 0:15' '01/04/2016 0:16' '01/04/2016 0:17' ...\n",
      " '31/03/2016 9:53' '31/03/2016 9:55' '31/03/2016 9:57']\n"
     ]
    }
   ],
   "source": [
    "print(np.unique(car_data['lastSeen']))"
   ]
  },
  {
   "cell_type": "markdown",
   "id": "023f4d8e-4e42-4607-9e4d-fca71e312a6f",
   "metadata": {},
   "source": [
    "## Cleaning Data and checking for missing values"
   ]
  },
  {
   "cell_type": "code",
   "execution_count": 27,
   "id": "e2a883d4-cfc5-46e1-b850-29d18785da57",
   "metadata": {},
   "outputs": [
    {
     "data": {
      "text/plain": [
       "dateCrawled            0\n",
       "name                   0\n",
       "seller                 0\n",
       "offerType              0\n",
       "price                  0\n",
       "abtest                 0\n",
       "vehicleType            0\n",
       "yearOfRegistration     0\n",
       "gearbox                0\n",
       "powerPS                0\n",
       "model                  0\n",
       "kilometer              0\n",
       "monthOfRegistration    0\n",
       "fuelType               0\n",
       "brand                  0\n",
       "notRepairedDamage      0\n",
       "dateCreated            0\n",
       "postalCode             0\n",
       "lastSeen               0\n",
       "dtype: int64"
      ]
     },
     "execution_count": 27,
     "metadata": {},
     "output_type": "execute_result"
    }
   ],
   "source": [
    "car_data.isnull().sum()"
   ]
  },
  {
   "cell_type": "code",
   "execution_count": 28,
   "id": "0788b6f0-1e52-4e19-834d-53d386882ba8",
   "metadata": {},
   "outputs": [
    {
     "name": "stdout",
     "output_type": "stream",
     "text": [
      "dateCrawled            object\n",
      "name                   object\n",
      "seller                 object\n",
      "offerType              object\n",
      "price                   int64\n",
      "abtest                 object\n",
      "vehicleType            object\n",
      "yearOfRegistration      int64\n",
      "gearbox                object\n",
      "powerPS                 int64\n",
      "model                  object\n",
      "kilometer               int64\n",
      "monthOfRegistration     int64\n",
      "fuelType               object\n",
      "brand                  object\n",
      "notRepairedDamage      object\n",
      "dateCreated            object\n",
      "postalCode              int64\n",
      "lastSeen               object\n",
      "dtype: object\n"
     ]
    }
   ],
   "source": [
    "print(car_data.dtypes)"
   ]
  },
  {
   "cell_type": "markdown",
   "id": "f9181278-f907-4391-880d-dd8aa6506206",
   "metadata": {},
   "source": [
    "## Display the numerical columns and the categorical columns\r\n"
   ]
  },
  {
   "cell_type": "code",
   "execution_count": 29,
   "id": "c4308a6d-2c65-4577-b54f-f74fe471d1d6",
   "metadata": {},
   "outputs": [],
   "source": [
    "numerical_cols = car_data.select_dtypes(include=['int', 'float']).columns\n",
    "categorical_cols = car_data.select_dtypes(include=['object']).columns"
   ]
  },
  {
   "cell_type": "code",
   "execution_count": 30,
   "id": "6a55234e-899b-4f65-b440-0b41af21e77a",
   "metadata": {},
   "outputs": [],
   "source": [
    "num_car_data = car_data[numerical_cols]\n",
    "cat_car_data = car_data[categorical_cols]"
   ]
  },
  {
   "cell_type": "code",
   "execution_count": 31,
   "id": "e9620c52-f081-4b13-9837-8986af7289e8",
   "metadata": {},
   "outputs": [
    {
     "data": {
      "text/html": [
       "<div>\n",
       "<style scoped>\n",
       "    .dataframe tbody tr th:only-of-type {\n",
       "        vertical-align: middle;\n",
       "    }\n",
       "\n",
       "    .dataframe tbody tr th {\n",
       "        vertical-align: top;\n",
       "    }\n",
       "\n",
       "    .dataframe thead th {\n",
       "        text-align: right;\n",
       "    }\n",
       "</style>\n",
       "<table border=\"1\" class=\"dataframe\">\n",
       "  <thead>\n",
       "    <tr style=\"text-align: right;\">\n",
       "      <th></th>\n",
       "      <th>price</th>\n",
       "      <th>yearOfRegistration</th>\n",
       "      <th>powerPS</th>\n",
       "      <th>kilometer</th>\n",
       "      <th>monthOfRegistration</th>\n",
       "      <th>postalCode</th>\n",
       "    </tr>\n",
       "  </thead>\n",
       "  <tbody>\n",
       "    <tr>\n",
       "      <th>0</th>\n",
       "      <td>1500</td>\n",
       "      <td>2001</td>\n",
       "      <td>75</td>\n",
       "      <td>150000</td>\n",
       "      <td>6</td>\n",
       "      <td>91074</td>\n",
       "    </tr>\n",
       "    <tr>\n",
       "      <th>1</th>\n",
       "      <td>3600</td>\n",
       "      <td>2008</td>\n",
       "      <td>69</td>\n",
       "      <td>90000</td>\n",
       "      <td>7</td>\n",
       "      <td>60437</td>\n",
       "    </tr>\n",
       "    <tr>\n",
       "      <th>2</th>\n",
       "      <td>650</td>\n",
       "      <td>1995</td>\n",
       "      <td>102</td>\n",
       "      <td>150000</td>\n",
       "      <td>10</td>\n",
       "      <td>33775</td>\n",
       "    </tr>\n",
       "    <tr>\n",
       "      <th>3</th>\n",
       "      <td>2200</td>\n",
       "      <td>2004</td>\n",
       "      <td>109</td>\n",
       "      <td>150000</td>\n",
       "      <td>8</td>\n",
       "      <td>67112</td>\n",
       "    </tr>\n",
       "    <tr>\n",
       "      <th>4</th>\n",
       "      <td>0</td>\n",
       "      <td>1980</td>\n",
       "      <td>50</td>\n",
       "      <td>40000</td>\n",
       "      <td>7</td>\n",
       "      <td>19348</td>\n",
       "    </tr>\n",
       "    <tr>\n",
       "      <th>...</th>\n",
       "      <td>...</td>\n",
       "      <td>...</td>\n",
       "      <td>...</td>\n",
       "      <td>...</td>\n",
       "      <td>...</td>\n",
       "      <td>...</td>\n",
       "    </tr>\n",
       "    <tr>\n",
       "      <th>260960</th>\n",
       "      <td>3200</td>\n",
       "      <td>2004</td>\n",
       "      <td>225</td>\n",
       "      <td>150000</td>\n",
       "      <td>5</td>\n",
       "      <td>96465</td>\n",
       "    </tr>\n",
       "    <tr>\n",
       "      <th>260961</th>\n",
       "      <td>1150</td>\n",
       "      <td>2000</td>\n",
       "      <td>0</td>\n",
       "      <td>150000</td>\n",
       "      <td>3</td>\n",
       "      <td>26624</td>\n",
       "    </tr>\n",
       "    <tr>\n",
       "      <th>260962</th>\n",
       "      <td>1199</td>\n",
       "      <td>2000</td>\n",
       "      <td>101</td>\n",
       "      <td>125000</td>\n",
       "      <td>3</td>\n",
       "      <td>26135</td>\n",
       "    </tr>\n",
       "    <tr>\n",
       "      <th>260963</th>\n",
       "      <td>9200</td>\n",
       "      <td>1996</td>\n",
       "      <td>102</td>\n",
       "      <td>150000</td>\n",
       "      <td>3</td>\n",
       "      <td>87439</td>\n",
       "    </tr>\n",
       "    <tr>\n",
       "      <th>260964</th>\n",
       "      <td>28990</td>\n",
       "      <td>2013</td>\n",
       "      <td>320</td>\n",
       "      <td>50000</td>\n",
       "      <td>8</td>\n",
       "      <td>73326</td>\n",
       "    </tr>\n",
       "  </tbody>\n",
       "</table>\n",
       "<p>260965 rows × 6 columns</p>\n",
       "</div>"
      ],
      "text/plain": [
       "        price  yearOfRegistration  powerPS  kilometer  monthOfRegistration  \\\n",
       "0        1500                2001       75     150000                    6   \n",
       "1        3600                2008       69      90000                    7   \n",
       "2         650                1995      102     150000                   10   \n",
       "3        2200                2004      109     150000                    8   \n",
       "4           0                1980       50      40000                    7   \n",
       "...       ...                 ...      ...        ...                  ...   \n",
       "260960   3200                2004      225     150000                    5   \n",
       "260961   1150                2000        0     150000                    3   \n",
       "260962   1199                2000      101     125000                    3   \n",
       "260963   9200                1996      102     150000                    3   \n",
       "260964  28990                2013      320      50000                    8   \n",
       "\n",
       "        postalCode  \n",
       "0            91074  \n",
       "1            60437  \n",
       "2            33775  \n",
       "3            67112  \n",
       "4            19348  \n",
       "...            ...  \n",
       "260960       96465  \n",
       "260961       26624  \n",
       "260962       26135  \n",
       "260963       87439  \n",
       "260964       73326  \n",
       "\n",
       "[260965 rows x 6 columns]"
      ]
     },
     "execution_count": 31,
     "metadata": {},
     "output_type": "execute_result"
    }
   ],
   "source": [
    "num_car_data"
   ]
  },
  {
   "cell_type": "code",
   "execution_count": 32,
   "id": "37deda7d-f53d-4350-a442-799396c6c255",
   "metadata": {},
   "outputs": [
    {
     "data": {
      "text/html": [
       "<div>\n",
       "<style scoped>\n",
       "    .dataframe tbody tr th:only-of-type {\n",
       "        vertical-align: middle;\n",
       "    }\n",
       "\n",
       "    .dataframe tbody tr th {\n",
       "        vertical-align: top;\n",
       "    }\n",
       "\n",
       "    .dataframe thead th {\n",
       "        text-align: right;\n",
       "    }\n",
       "</style>\n",
       "<table border=\"1\" class=\"dataframe\">\n",
       "  <thead>\n",
       "    <tr style=\"text-align: right;\">\n",
       "      <th></th>\n",
       "      <th>dateCrawled</th>\n",
       "      <th>name</th>\n",
       "      <th>seller</th>\n",
       "      <th>offerType</th>\n",
       "      <th>abtest</th>\n",
       "      <th>vehicleType</th>\n",
       "      <th>gearbox</th>\n",
       "      <th>model</th>\n",
       "      <th>fuelType</th>\n",
       "      <th>brand</th>\n",
       "      <th>notRepairedDamage</th>\n",
       "      <th>dateCreated</th>\n",
       "      <th>lastSeen</th>\n",
       "    </tr>\n",
       "  </thead>\n",
       "  <tbody>\n",
       "    <tr>\n",
       "      <th>0</th>\n",
       "      <td>17/03/2016 16:54</td>\n",
       "      <td>GOLF_4_1_4__3TÜRER</td>\n",
       "      <td>private</td>\n",
       "      <td>offer</td>\n",
       "      <td>test</td>\n",
       "      <td>small car</td>\n",
       "      <td>manual</td>\n",
       "      <td>golf</td>\n",
       "      <td>petrol</td>\n",
       "      <td>volkswagen</td>\n",
       "      <td>no</td>\n",
       "      <td>17/03/2016 0:00</td>\n",
       "      <td>17/03/2016 17:40</td>\n",
       "    </tr>\n",
       "    <tr>\n",
       "      <th>1</th>\n",
       "      <td>31/03/2016 17:25</td>\n",
       "      <td>Skoda_Fabia_1.4_TDI_PD_Classic</td>\n",
       "      <td>private</td>\n",
       "      <td>offer</td>\n",
       "      <td>test</td>\n",
       "      <td>small car</td>\n",
       "      <td>manual</td>\n",
       "      <td>fabia</td>\n",
       "      <td>diesel</td>\n",
       "      <td>skoda</td>\n",
       "      <td>no</td>\n",
       "      <td>31/03/2016 0:00</td>\n",
       "      <td>06/04/2016 10:17</td>\n",
       "    </tr>\n",
       "    <tr>\n",
       "      <th>2</th>\n",
       "      <td>04/04/2016 17:36</td>\n",
       "      <td>BMW_316i___e36_Limousine___Bastlerfahrzeug__Ex...</td>\n",
       "      <td>private</td>\n",
       "      <td>offer</td>\n",
       "      <td>test</td>\n",
       "      <td>limousine</td>\n",
       "      <td>manual</td>\n",
       "      <td>3er</td>\n",
       "      <td>petrol</td>\n",
       "      <td>bmw</td>\n",
       "      <td>yes</td>\n",
       "      <td>04/04/2016 0:00</td>\n",
       "      <td>06/04/2016 19:17</td>\n",
       "    </tr>\n",
       "    <tr>\n",
       "      <th>3</th>\n",
       "      <td>01/04/2016 20:48</td>\n",
       "      <td>Peugeot_206_CC_110_Platinum</td>\n",
       "      <td>private</td>\n",
       "      <td>offer</td>\n",
       "      <td>test</td>\n",
       "      <td>cabrio</td>\n",
       "      <td>manual</td>\n",
       "      <td>2_reihe</td>\n",
       "      <td>petrol</td>\n",
       "      <td>peugeot</td>\n",
       "      <td>no</td>\n",
       "      <td>01/04/2016 0:00</td>\n",
       "      <td>05/04/2016 18:18</td>\n",
       "    </tr>\n",
       "    <tr>\n",
       "      <th>4</th>\n",
       "      <td>21/03/2016 18:54</td>\n",
       "      <td>VW_Derby_Bj_80__Scheunenfund</td>\n",
       "      <td>private</td>\n",
       "      <td>offer</td>\n",
       "      <td>test</td>\n",
       "      <td>limousine</td>\n",
       "      <td>manual</td>\n",
       "      <td>others</td>\n",
       "      <td>petrol</td>\n",
       "      <td>volkswagen</td>\n",
       "      <td>no</td>\n",
       "      <td>21/03/2016 0:00</td>\n",
       "      <td>25/03/2016 16:47</td>\n",
       "    </tr>\n",
       "    <tr>\n",
       "      <th>...</th>\n",
       "      <td>...</td>\n",
       "      <td>...</td>\n",
       "      <td>...</td>\n",
       "      <td>...</td>\n",
       "      <td>...</td>\n",
       "      <td>...</td>\n",
       "      <td>...</td>\n",
       "      <td>...</td>\n",
       "      <td>...</td>\n",
       "      <td>...</td>\n",
       "      <td>...</td>\n",
       "      <td>...</td>\n",
       "      <td>...</td>\n",
       "    </tr>\n",
       "    <tr>\n",
       "      <th>260960</th>\n",
       "      <td>19/03/2016 19:53</td>\n",
       "      <td>turbo_defekt</td>\n",
       "      <td>private</td>\n",
       "      <td>offer</td>\n",
       "      <td>control</td>\n",
       "      <td>limousine</td>\n",
       "      <td>manual</td>\n",
       "      <td>leon</td>\n",
       "      <td>petrol</td>\n",
       "      <td>seat</td>\n",
       "      <td>yes</td>\n",
       "      <td>19/03/2016 0:00</td>\n",
       "      <td>19/03/2016 20:44</td>\n",
       "    </tr>\n",
       "    <tr>\n",
       "      <th>260961</th>\n",
       "      <td>27/03/2016 20:36</td>\n",
       "      <td>Opel_Zafira_1.6_Elegance_TÜV_12/16</td>\n",
       "      <td>private</td>\n",
       "      <td>offer</td>\n",
       "      <td>control</td>\n",
       "      <td>bus</td>\n",
       "      <td>manual</td>\n",
       "      <td>zafira</td>\n",
       "      <td>petrol</td>\n",
       "      <td>opel</td>\n",
       "      <td>no</td>\n",
       "      <td>27/03/2016 0:00</td>\n",
       "      <td>29/03/2016 10:17</td>\n",
       "    </tr>\n",
       "    <tr>\n",
       "      <th>260962</th>\n",
       "      <td>05/03/2016 19:56</td>\n",
       "      <td>Smart_smart_leistungssteigerung_100ps</td>\n",
       "      <td>private</td>\n",
       "      <td>offer</td>\n",
       "      <td>test</td>\n",
       "      <td>cabrio</td>\n",
       "      <td>automatic</td>\n",
       "      <td>fortwo</td>\n",
       "      <td>petrol</td>\n",
       "      <td>smart</td>\n",
       "      <td>no</td>\n",
       "      <td>05/03/2016 0:00</td>\n",
       "      <td>11/03/2016 18:17</td>\n",
       "    </tr>\n",
       "    <tr>\n",
       "      <th>260963</th>\n",
       "      <td>19/03/2016 18:57</td>\n",
       "      <td>Volkswagen_Multivan_T4_TDI_7DC_UY2</td>\n",
       "      <td>private</td>\n",
       "      <td>offer</td>\n",
       "      <td>test</td>\n",
       "      <td>bus</td>\n",
       "      <td>manual</td>\n",
       "      <td>transporter</td>\n",
       "      <td>diesel</td>\n",
       "      <td>volkswagen</td>\n",
       "      <td>no</td>\n",
       "      <td>19/03/2016 0:00</td>\n",
       "      <td>07/04/2016 7:15</td>\n",
       "    </tr>\n",
       "    <tr>\n",
       "      <th>260964</th>\n",
       "      <td>07/03/2016 19:39</td>\n",
       "      <td>BMW_M135i_vollausgestattet_NP_52.720____Euro</td>\n",
       "      <td>private</td>\n",
       "      <td>offer</td>\n",
       "      <td>control</td>\n",
       "      <td>limousine</td>\n",
       "      <td>manual</td>\n",
       "      <td>m_reihe</td>\n",
       "      <td>petrol</td>\n",
       "      <td>bmw</td>\n",
       "      <td>no</td>\n",
       "      <td>07/03/2016 0:00</td>\n",
       "      <td>22/03/2016 3:17</td>\n",
       "    </tr>\n",
       "  </tbody>\n",
       "</table>\n",
       "<p>260965 rows × 13 columns</p>\n",
       "</div>"
      ],
      "text/plain": [
       "             dateCrawled                                               name  \\\n",
       "0       17/03/2016 16:54                                 GOLF_4_1_4__3TÜRER   \n",
       "1       31/03/2016 17:25                     Skoda_Fabia_1.4_TDI_PD_Classic   \n",
       "2       04/04/2016 17:36  BMW_316i___e36_Limousine___Bastlerfahrzeug__Ex...   \n",
       "3       01/04/2016 20:48                        Peugeot_206_CC_110_Platinum   \n",
       "4       21/03/2016 18:54                       VW_Derby_Bj_80__Scheunenfund   \n",
       "...                  ...                                                ...   \n",
       "260960  19/03/2016 19:53                                       turbo_defekt   \n",
       "260961  27/03/2016 20:36                 Opel_Zafira_1.6_Elegance_TÜV_12/16   \n",
       "260962  05/03/2016 19:56              Smart_smart_leistungssteigerung_100ps   \n",
       "260963  19/03/2016 18:57                 Volkswagen_Multivan_T4_TDI_7DC_UY2   \n",
       "260964  07/03/2016 19:39       BMW_M135i_vollausgestattet_NP_52.720____Euro   \n",
       "\n",
       "         seller offerType   abtest vehicleType    gearbox        model  \\\n",
       "0       private     offer     test   small car     manual         golf   \n",
       "1       private     offer     test   small car     manual        fabia   \n",
       "2       private     offer     test   limousine     manual          3er   \n",
       "3       private     offer     test      cabrio     manual      2_reihe   \n",
       "4       private     offer     test   limousine     manual       others   \n",
       "...         ...       ...      ...         ...        ...          ...   \n",
       "260960  private     offer  control   limousine     manual         leon   \n",
       "260961  private     offer  control         bus     manual       zafira   \n",
       "260962  private     offer     test      cabrio  automatic       fortwo   \n",
       "260963  private     offer     test         bus     manual  transporter   \n",
       "260964  private     offer  control   limousine     manual      m_reihe   \n",
       "\n",
       "       fuelType       brand notRepairedDamage      dateCreated  \\\n",
       "0        petrol  volkswagen                no  17/03/2016 0:00   \n",
       "1        diesel       skoda                no  31/03/2016 0:00   \n",
       "2        petrol         bmw               yes  04/04/2016 0:00   \n",
       "3        petrol     peugeot                no  01/04/2016 0:00   \n",
       "4        petrol  volkswagen                no  21/03/2016 0:00   \n",
       "...         ...         ...               ...              ...   \n",
       "260960   petrol        seat               yes  19/03/2016 0:00   \n",
       "260961   petrol        opel                no  27/03/2016 0:00   \n",
       "260962   petrol       smart                no  05/03/2016 0:00   \n",
       "260963   diesel  volkswagen                no  19/03/2016 0:00   \n",
       "260964   petrol         bmw                no  07/03/2016 0:00   \n",
       "\n",
       "                lastSeen  \n",
       "0       17/03/2016 17:40  \n",
       "1       06/04/2016 10:17  \n",
       "2       06/04/2016 19:17  \n",
       "3       05/04/2016 18:18  \n",
       "4       25/03/2016 16:47  \n",
       "...                  ...  \n",
       "260960  19/03/2016 20:44  \n",
       "260961  29/03/2016 10:17  \n",
       "260962  11/03/2016 18:17  \n",
       "260963   07/04/2016 7:15  \n",
       "260964   22/03/2016 3:17  \n",
       "\n",
       "[260965 rows x 13 columns]"
      ]
     },
     "execution_count": 32,
     "metadata": {},
     "output_type": "execute_result"
    }
   ],
   "source": [
    "cat_car_data"
   ]
  },
  {
   "cell_type": "markdown",
   "id": "88f046a6-c1fa-41cd-88a9-83b5fdca4e9b",
   "metadata": {},
   "source": [
    "## Lets compute the mean\n",
    "- price\n",
    "- yearOfRegistration\n",
    "- powerPS\n",
    "- kilometer\n",
    "- monthOfRegistration\n",
    "- postalCode"
   ]
  },
  {
   "cell_type": "code",
   "execution_count": 33,
   "id": "4bd54466-f2f5-4034-ba9e-1ea9a6108c29",
   "metadata": {},
   "outputs": [
    {
     "data": {
      "text/plain": [
       "8209.431283888644"
      ]
     },
     "execution_count": 33,
     "metadata": {},
     "output_type": "execute_result"
    }
   ],
   "source": [
    "mean_price = car_data['price'].mean()\n",
    "mean_price"
   ]
  },
  {
   "cell_type": "code",
   "execution_count": 34,
   "id": "b1f31428-fb6d-4aa4-877f-3d33972c7e1f",
   "metadata": {},
   "outputs": [
    {
     "data": {
      "text/plain": [
       "8209.0"
      ]
     },
     "execution_count": 34,
     "metadata": {},
     "output_type": "execute_result"
    }
   ],
   "source": [
    "Price = round(mean_price, 0)\n",
    "Price"
   ]
  },
  {
   "cell_type": "code",
   "execution_count": 35,
   "id": "1fd7972e-a9ed-4e88-b90c-c4a310418198",
   "metadata": {},
   "outputs": [
    {
     "data": {
      "text/plain": [
       "2003.3093824842413"
      ]
     },
     "execution_count": 35,
     "metadata": {},
     "output_type": "execute_result"
    }
   ],
   "source": [
    "mean_yearOfRegistration = car_data['yearOfRegistration'].mean()\n",
    "mean_yearOfRegistration"
   ]
  },
  {
   "cell_type": "code",
   "execution_count": 36,
   "id": "79dd134e-f1d8-45e9-b6b9-579be2ac5be7",
   "metadata": {},
   "outputs": [
    {
     "data": {
      "text/plain": [
       "2003.0"
      ]
     },
     "execution_count": 36,
     "metadata": {},
     "output_type": "execute_result"
    }
   ],
   "source": [
    "YearOfRegistration = round(mean_yearOfRegistration, 0)\n",
    "YearOfRegistration"
   ]
  },
  {
   "cell_type": "code",
   "execution_count": 37,
   "id": "9144f66b-49ea-4fe8-97a2-24a78edf3a89",
   "metadata": {},
   "outputs": [
    {
     "data": {
      "text/plain": [
       "126.33153104822486"
      ]
     },
     "execution_count": 37,
     "metadata": {},
     "output_type": "execute_result"
    }
   ],
   "source": [
    "mean_powerPS = car_data['powerPS'].mean()\n",
    "mean_powerPS"
   ]
  },
  {
   "cell_type": "code",
   "execution_count": 38,
   "id": "c9726543-2aca-4cc1-8d53-acdda933d198",
   "metadata": {},
   "outputs": [
    {
     "data": {
      "text/plain": [
       "126.0"
      ]
     },
     "execution_count": 38,
     "metadata": {},
     "output_type": "execute_result"
    }
   ],
   "source": [
    "PowerPS = round(mean_powerPS, 0)\n",
    "PowerPS"
   ]
  },
  {
   "cell_type": "code",
   "execution_count": 39,
   "id": "6a5cca23-e7c0-43bb-a7be-95854d68d758",
   "metadata": {},
   "outputs": [
    {
     "data": {
      "text/plain": [
       "124057.97712336904"
      ]
     },
     "execution_count": 39,
     "metadata": {},
     "output_type": "execute_result"
    }
   ],
   "source": [
    "mean_kilometer = car_data['kilometer'].mean()\n",
    "mean_kilometer"
   ]
  },
  {
   "cell_type": "code",
   "execution_count": 40,
   "id": "0e1cbe65-adeb-4a03-a613-1d487915b22a",
   "metadata": {},
   "outputs": [
    {
     "data": {
      "text/plain": [
       "124058.0"
      ]
     },
     "execution_count": 40,
     "metadata": {},
     "output_type": "execute_result"
    }
   ],
   "source": [
    "Kilometer = round(mean_kilometer, 0)\n",
    "Kilometer"
   ]
  },
  {
   "cell_type": "code",
   "execution_count": 41,
   "id": "975a9cfe-3cf5-4ec3-adb5-9093e4926879",
   "metadata": {},
   "outputs": [
    {
     "data": {
      "text/plain": [
       "6.1825762075374096"
      ]
     },
     "execution_count": 41,
     "metadata": {},
     "output_type": "execute_result"
    }
   ],
   "source": [
    "mean_monthOfRegistration = car_data['monthOfRegistration'].mean()\n",
    "mean_monthOfRegistration"
   ]
  },
  {
   "cell_type": "code",
   "execution_count": 42,
   "id": "a6fc316e-df74-4abf-b73b-36280e7db5c9",
   "metadata": {},
   "outputs": [
    {
     "data": {
      "text/plain": [
       "6.0"
      ]
     },
     "execution_count": 42,
     "metadata": {},
     "output_type": "execute_result"
    }
   ],
   "source": [
    "MonthOfRegistration = round(mean_monthOfRegistration, 0)\n",
    "MonthOfRegistration"
   ]
  },
  {
   "cell_type": "code",
   "execution_count": 43,
   "id": "6947b1a3-d396-4b7a-afe1-f263ea3954a9",
   "metadata": {},
   "outputs": [
    {
     "data": {
      "text/plain": [
       "51818.6749947311"
      ]
     },
     "execution_count": 43,
     "metadata": {},
     "output_type": "execute_result"
    }
   ],
   "source": [
    "mean_postalCode = car_data['postalCode'].mean()\n",
    "mean_postalCode"
   ]
  },
  {
   "cell_type": "code",
   "execution_count": 44,
   "id": "60176330-4547-433c-a21e-c0aa677020bb",
   "metadata": {},
   "outputs": [
    {
     "data": {
      "text/plain": [
       "51819.0"
      ]
     },
     "execution_count": 44,
     "metadata": {},
     "output_type": "execute_result"
    }
   ],
   "source": [
    "PostalCode = round(mean_postalCode, 0)\n",
    "PostalCode"
   ]
  },
  {
   "cell_type": "markdown",
   "id": "dc8f01ad-cdb5-42a5-aaa3-b552d3028b10",
   "metadata": {},
   "source": [
    "## Descriptive Analysis\n",
    "- Total price, Highest Price, and lowest Price\n",
    "- \n"
   ]
  },
  {
   "cell_type": "code",
   "execution_count": 45,
   "id": "c1a8a421-beb0-4bd2-a0d8-f87f5fd91818",
   "metadata": {},
   "outputs": [
    {
     "data": {
      "text/plain": [
       "2142374235"
      ]
     },
     "execution_count": 45,
     "metadata": {},
     "output_type": "execute_result"
    }
   ],
   "source": [
    "car_data['price'].sum()"
   ]
  },
  {
   "cell_type": "code",
   "execution_count": 46,
   "id": "ac434e34-1821-4f8a-8d6f-3fc93f27c34c",
   "metadata": {},
   "outputs": [
    {
     "data": {
      "text/plain": [
       "0"
      ]
     },
     "execution_count": 46,
     "metadata": {},
     "output_type": "execute_result"
    }
   ],
   "source": [
    "car_data['price'].min()"
   ]
  },
  {
   "cell_type": "code",
   "execution_count": 47,
   "id": "216db0a0-cc31-463f-b210-0c8296199bc6",
   "metadata": {},
   "outputs": [
    {
     "data": {
      "text/plain": [
       "99999999"
      ]
     },
     "execution_count": 47,
     "metadata": {},
     "output_type": "execute_result"
    }
   ],
   "source": [
    "car_data['price'].max()"
   ]
  },
  {
   "cell_type": "code",
   "execution_count": 48,
   "id": "dc691218-a9f6-4c94-bdd8-ccd515b2354b",
   "metadata": {},
   "outputs": [
    {
     "data": {
      "text/html": [
       "<div>\n",
       "<style scoped>\n",
       "    .dataframe tbody tr th:only-of-type {\n",
       "        vertical-align: middle;\n",
       "    }\n",
       "\n",
       "    .dataframe tbody tr th {\n",
       "        vertical-align: top;\n",
       "    }\n",
       "\n",
       "    .dataframe thead th {\n",
       "        text-align: right;\n",
       "    }\n",
       "</style>\n",
       "<table border=\"1\" class=\"dataframe\">\n",
       "  <thead>\n",
       "    <tr style=\"text-align: right;\">\n",
       "      <th></th>\n",
       "      <th>price</th>\n",
       "      <th>yearOfRegistration</th>\n",
       "      <th>powerPS</th>\n",
       "      <th>kilometer</th>\n",
       "      <th>monthOfRegistration</th>\n",
       "      <th>postalCode</th>\n",
       "    </tr>\n",
       "  </thead>\n",
       "  <tbody>\n",
       "    <tr>\n",
       "      <th>count</th>\n",
       "      <td>260965.0</td>\n",
       "      <td>260965.0</td>\n",
       "      <td>260965.0</td>\n",
       "      <td>260965.0</td>\n",
       "      <td>260965.0</td>\n",
       "      <td>260965.0</td>\n",
       "    </tr>\n",
       "    <tr>\n",
       "      <th>mean</th>\n",
       "      <td>8209.0</td>\n",
       "      <td>2003.0</td>\n",
       "      <td>126.0</td>\n",
       "      <td>124058.0</td>\n",
       "      <td>6.0</td>\n",
       "      <td>51819.0</td>\n",
       "    </tr>\n",
       "    <tr>\n",
       "      <th>std</th>\n",
       "      <td>343303.0</td>\n",
       "      <td>7.0</td>\n",
       "      <td>145.0</td>\n",
       "      <td>39849.0</td>\n",
       "      <td>3.0</td>\n",
       "      <td>25843.0</td>\n",
       "    </tr>\n",
       "    <tr>\n",
       "      <th>min</th>\n",
       "      <td>0.0</td>\n",
       "      <td>1910.0</td>\n",
       "      <td>0.0</td>\n",
       "      <td>5000.0</td>\n",
       "      <td>0.0</td>\n",
       "      <td>1067.0</td>\n",
       "    </tr>\n",
       "    <tr>\n",
       "      <th>25%</th>\n",
       "      <td>1500.0</td>\n",
       "      <td>1999.0</td>\n",
       "      <td>78.0</td>\n",
       "      <td>100000.0</td>\n",
       "      <td>3.0</td>\n",
       "      <td>31226.0</td>\n",
       "    </tr>\n",
       "    <tr>\n",
       "      <th>50%</th>\n",
       "      <td>3850.0</td>\n",
       "      <td>2004.0</td>\n",
       "      <td>116.0</td>\n",
       "      <td>150000.0</td>\n",
       "      <td>6.0</td>\n",
       "      <td>51103.0</td>\n",
       "    </tr>\n",
       "    <tr>\n",
       "      <th>75%</th>\n",
       "      <td>8600.0</td>\n",
       "      <td>2008.0</td>\n",
       "      <td>150.0</td>\n",
       "      <td>150000.0</td>\n",
       "      <td>9.0</td>\n",
       "      <td>72766.0</td>\n",
       "    </tr>\n",
       "    <tr>\n",
       "      <th>max</th>\n",
       "      <td>99999999.0</td>\n",
       "      <td>2018.0</td>\n",
       "      <td>20000.0</td>\n",
       "      <td>150000.0</td>\n",
       "      <td>12.0</td>\n",
       "      <td>99998.0</td>\n",
       "    </tr>\n",
       "  </tbody>\n",
       "</table>\n",
       "</div>"
      ],
      "text/plain": [
       "            price  yearOfRegistration   powerPS  kilometer  \\\n",
       "count    260965.0            260965.0  260965.0   260965.0   \n",
       "mean       8209.0              2003.0     126.0   124058.0   \n",
       "std      343303.0                 7.0     145.0    39849.0   \n",
       "min           0.0              1910.0       0.0     5000.0   \n",
       "25%        1500.0              1999.0      78.0   100000.0   \n",
       "50%        3850.0              2004.0     116.0   150000.0   \n",
       "75%        8600.0              2008.0     150.0   150000.0   \n",
       "max    99999999.0              2018.0   20000.0   150000.0   \n",
       "\n",
       "       monthOfRegistration  postalCode  \n",
       "count             260965.0    260965.0  \n",
       "mean                   6.0     51819.0  \n",
       "std                    3.0     25843.0  \n",
       "min                    0.0      1067.0  \n",
       "25%                    3.0     31226.0  \n",
       "50%                    6.0     51103.0  \n",
       "75%                    9.0     72766.0  \n",
       "max                   12.0     99998.0  "
      ]
     },
     "execution_count": 48,
     "metadata": {},
     "output_type": "execute_result"
    }
   ],
   "source": [
    "car_data.describe().round()"
   ]
  },
  {
   "cell_type": "code",
   "execution_count": 49,
   "id": "f527e753-d213-4cc6-966f-4c973f05416e",
   "metadata": {},
   "outputs": [
    {
     "data": {
      "text/html": [
       "<div>\n",
       "<style scoped>\n",
       "    .dataframe tbody tr th:only-of-type {\n",
       "        vertical-align: middle;\n",
       "    }\n",
       "\n",
       "    .dataframe tbody tr th {\n",
       "        vertical-align: top;\n",
       "    }\n",
       "\n",
       "    .dataframe thead th {\n",
       "        text-align: right;\n",
       "    }\n",
       "</style>\n",
       "<table border=\"1\" class=\"dataframe\">\n",
       "  <thead>\n",
       "    <tr style=\"text-align: right;\">\n",
       "      <th></th>\n",
       "      <th>price</th>\n",
       "      <th>yearOfRegistration</th>\n",
       "      <th>powerPS</th>\n",
       "      <th>kilometer</th>\n",
       "      <th>monthOfRegistration</th>\n",
       "      <th>postalCode</th>\n",
       "    </tr>\n",
       "  </thead>\n",
       "  <tbody>\n",
       "    <tr>\n",
       "      <th>price</th>\n",
       "      <td>1.000000</td>\n",
       "      <td>0.010422</td>\n",
       "      <td>0.008641</td>\n",
       "      <td>-0.013939</td>\n",
       "      <td>0.004747</td>\n",
       "      <td>0.001313</td>\n",
       "    </tr>\n",
       "    <tr>\n",
       "      <th>yearOfRegistration</th>\n",
       "      <td>0.010422</td>\n",
       "      <td>1.000000</td>\n",
       "      <td>0.102423</td>\n",
       "      <td>-0.395131</td>\n",
       "      <td>0.033527</td>\n",
       "      <td>0.046470</td>\n",
       "    </tr>\n",
       "    <tr>\n",
       "      <th>powerPS</th>\n",
       "      <td>0.008641</td>\n",
       "      <td>0.102423</td>\n",
       "      <td>1.000000</td>\n",
       "      <td>-0.016955</td>\n",
       "      <td>0.015071</td>\n",
       "      <td>0.026810</td>\n",
       "    </tr>\n",
       "    <tr>\n",
       "      <th>kilometer</th>\n",
       "      <td>-0.013939</td>\n",
       "      <td>-0.395131</td>\n",
       "      <td>-0.016955</td>\n",
       "      <td>1.000000</td>\n",
       "      <td>-0.006262</td>\n",
       "      <td>-0.032885</td>\n",
       "    </tr>\n",
       "    <tr>\n",
       "      <th>monthOfRegistration</th>\n",
       "      <td>0.004747</td>\n",
       "      <td>0.033527</td>\n",
       "      <td>0.015071</td>\n",
       "      <td>-0.006262</td>\n",
       "      <td>1.000000</td>\n",
       "      <td>0.004022</td>\n",
       "    </tr>\n",
       "    <tr>\n",
       "      <th>postalCode</th>\n",
       "      <td>0.001313</td>\n",
       "      <td>0.046470</td>\n",
       "      <td>0.026810</td>\n",
       "      <td>-0.032885</td>\n",
       "      <td>0.004022</td>\n",
       "      <td>1.000000</td>\n",
       "    </tr>\n",
       "  </tbody>\n",
       "</table>\n",
       "</div>"
      ],
      "text/plain": [
       "                        price  yearOfRegistration   powerPS  kilometer  \\\n",
       "price                1.000000            0.010422  0.008641  -0.013939   \n",
       "yearOfRegistration   0.010422            1.000000  0.102423  -0.395131   \n",
       "powerPS              0.008641            0.102423  1.000000  -0.016955   \n",
       "kilometer           -0.013939           -0.395131 -0.016955   1.000000   \n",
       "monthOfRegistration  0.004747            0.033527  0.015071  -0.006262   \n",
       "postalCode           0.001313            0.046470  0.026810  -0.032885   \n",
       "\n",
       "                     monthOfRegistration  postalCode  \n",
       "price                           0.004747    0.001313  \n",
       "yearOfRegistration              0.033527    0.046470  \n",
       "powerPS                         0.015071    0.026810  \n",
       "kilometer                      -0.006262   -0.032885  \n",
       "monthOfRegistration             1.000000    0.004022  \n",
       "postalCode                      0.004022    1.000000  "
      ]
     },
     "execution_count": 49,
     "metadata": {},
     "output_type": "execute_result"
    }
   ],
   "source": [
    "corr_car_data = num_car_data.corr()\n",
    "corr_car_data"
   ]
  },
  {
   "cell_type": "markdown",
   "id": "66acada7-7966-4032-b5fb-4b75c894be5c",
   "metadata": {},
   "source": [
    "## Exploratory Data Analysis\n",
    "- Scatter plot...."
   ]
  },
  {
   "cell_type": "code",
   "execution_count": 50,
   "id": "0630b7bc-4bab-448f-b1f2-b5bf1f004523",
   "metadata": {},
   "outputs": [
    {
     "data": {
      "image/png": "[encoded data removed]",
      "text/plain": [
       "<Figure size 640x480 with 1 Axes>"
      ]
     },
     "metadata": {},
     "output_type": "display_data"
    }
   ],
   "source": [
    "plt.scatter(car_data['yearOfRegistration'], car_data['price'], c='red')\n",
    "\n",
    "plt.title('Relation between yearOfRegistration and price of a car.')\n",
    "\n",
    "plt.ylabel('price (Dollars)')\n",
    "\n",
    "plt.xlabel('yearOfRegistration (Years)')\n",
    "\n",
    "plt.savefig('yearOfRegistration_price_rel.png')\n",
    "\n",
    "plt.show()"
   ]
  },
  {
   "cell_type": "code",
   "execution_count": 51,
   "id": "5b7b7431-fcf3-47d8-8d5d-20fcfaa16ade",
   "metadata": {},
   "outputs": [
    {
     "data": {
      "image/png": "[encoded data removed]",
      "text/plain": [
       "<Figure size 640x480 with 1 Axes>"
      ]
     },
     "metadata": {},
     "output_type": "display_data"
    }
   ],
   "source": [
    "plt.scatter(car_data['powerPS'], car_data['price'], c='red')\n",
    "\n",
    "plt.title('Relation between powerPS and price of a car.')\n",
    "\n",
    "plt.ylabel('price (Dollars)')\n",
    "\n",
    "plt.xlabel('powerPS (Watt)')\n",
    "\n",
    "plt.savefig('powerPS_price_rel.png')\n",
    "\n",
    "plt.show()"
   ]
  },
  {
   "cell_type": "code",
   "execution_count": 52,
   "id": "e911c5d4-6adb-4428-920b-89e2e27280ee",
   "metadata": {},
   "outputs": [
    {
     "data": {
      "image/png": "[encoded data removed]",
      "text/plain": [
       "<Figure size 640x480 with 1 Axes>"
      ]
     },
     "metadata": {},
     "output_type": "display_data"
    }
   ],
   "source": [
    "plt.scatter(car_data['kilometer'], car_data['price'], c='red')\n",
    "\n",
    "plt.title('Relation between kilometer and price of a car.')\n",
    "\n",
    "plt.ylabel('price (Dollars)')\n",
    "\n",
    "plt.xlabel('kilometer (km)')\n",
    "\n",
    "plt.savefig('kilometer_price_rel.png')\n",
    "\n",
    "plt.show()"
   ]
  },
  {
   "cell_type": "code",
   "execution_count": null,
   "id": "29ed7ef7-6be5-46b8-a345-6fa5f6d82e52",
   "metadata": {},
   "outputs": [],
   "source": []
  },
  {
   "cell_type": "code",
   "execution_count": 53,
   "id": "5f6aefa2-6489-4653-8faf-cf4d60ca9027",
   "metadata": {},
   "outputs": [
    {
     "data": {
      "image/png": "[encoded data removed]",
      "text/plain": [
       "<Figure size 640x480 with 1 Axes>"
      ]
     },
     "metadata": {},
     "output_type": "display_data"
    }
   ],
   "source": [
    "plt.scatter(car_data['monthOfRegistration'], car_data['price'], c='red')\n",
    "\n",
    "plt.title('Relation between monthOfRegistration and price of a car.')\n",
    "\n",
    "plt.ylabel('price (Dollars)')\n",
    "\n",
    "plt.xlabel('monthOfRegistration (Month)')\n",
    "\n",
    "plt.savefig('monthOfRegistration_price_rel.png')\n",
    "\n",
    "plt.show()"
   ]
  },
  {
   "cell_type": "code",
   "execution_count": 54,
   "id": "19ce36fa-b2bf-45c2-aafe-73c40ec76107",
   "metadata": {},
   "outputs": [
    {
     "data": {
      "image/png": "[encoded data removed]",
      "text/plain": [
       "<Figure size 640x480 with 1 Axes>"
      ]
     },
     "metadata": {},
     "output_type": "display_data"
    }
   ],
   "source": [
    "plt.scatter(car_data['postalCode'], car_data['price'], c='red')\n",
    "\n",
    "plt.title('Relation between postalCode and price of a car.')\n",
    "\n",
    "plt.ylabel('price (Dollars)')\n",
    "\n",
    "plt.xlabel('postalCode')\n",
    "\n",
    "plt.savefig('postalCode_price_rel.png')\n",
    "\n",
    "plt.show()"
   ]
  },
  {
   "cell_type": "code",
   "execution_count": 59,
   "id": "cda35793-7502-44e0-962c-d1334c47fdd3",
   "metadata": {},
   "outputs": [
    {
     "data": {
      "image/png": "[encoded data removed]",
      "text/plain": [
       "<Figure size 640x480 with 1 Axes>"
      ]
     },
     "metadata": {},
     "output_type": "display_data"
    }
   ],
   "source": [
    "plt.hist(car_data['price'], color='brown')\n",
    "plt.title('Histogram Distribution of Price')\n",
    "plt.ylabel('Price')\n",
    "plt.xlabel('freq')\n",
    "plt.savefig('')\n",
    "plt.show()\n"
   ]
  },
  {
   "cell_type": "code",
   "execution_count": 60,
   "id": "7b0aa61e-2361-48e5-9e34-70bf22cf8d52",
   "metadata": {},
   "outputs": [
    {
     "data": {
      "image/png": "[encoded data removed]",
      "text/plain": [
       "<Figure size 640x480 with 1 Axes>"
      ]
     },
     "metadata": {},
     "output_type": "display_data"
    }
   ],
   "source": [
    "plt.hist(car_data['yearOfRegistration'], color='brown')\n",
    "plt.title('Histogram Distribution of Year Of Registration')\n",
    "plt.ylabel('Frequency')\n",
    "plt.xlabel('Registration Of Year')\n",
    "plt.savefig('')\n",
    "plt.show()"
   ]
  },
  {
   "cell_type": "code",
   "execution_count": 62,
   "id": "6df36a7a-7b9a-484e-a3a2-d01a24b28cbc",
   "metadata": {},
   "outputs": [
    {
     "data": {
      "image/png": "[encoded data removed]",
      "text/plain": [
       "<Figure size 640x480 with 1 Axes>"
      ]
     },
     "metadata": {},
     "output_type": "display_data"
    }
   ],
   "source": [
    "plt.hist(car_data['kilometer'], color='blue')\n",
    "plt.title('Histogram Distribution of KILOMETER')\n",
    "plt.ylabel('Frequency')\n",
    "plt.xlabel('KILOMETER')\n",
    "plt.savefig('')\n",
    "plt.show()"
   ]
  },
  {
   "cell_type": "code",
   "execution_count": 63,
   "id": "67f6f309-1130-461a-a291-e860dd8143ed",
   "metadata": {},
   "outputs": [
    {
     "data": {
      "image/png": "[encoded data removed]",
      "text/plain": [
       "<Figure size 640x480 with 1 Axes>"
      ]
     },
     "metadata": {},
     "output_type": "display_data"
    }
   ],
   "source": [
    "plt.hist(car_data['monthOfRegistration'], color='blue')\n",
    "plt.title('Histogram Distribution of Month Of Registration')\n",
    "plt.ylabel('Frequency')\n",
    "plt.xlabel('Month Of Registration')\n",
    "plt.savefig('')\n",
    "plt.show()"
   ]
  },
  {
   "cell_type": "code",
   "execution_count": 64,
   "id": "1c591e7b-a22d-48a9-b886-595cd7cda2dc",
   "metadata": {},
   "outputs": [
    {
     "data": {
      "image/png": "[encoded data removed]",
      "text/plain": [
       "<Figure size 640x480 with 1 Axes>"
      ]
     },
     "metadata": {},
     "output_type": "display_data"
    }
   ],
   "source": [
    "\n",
    "plt.hist(car_data['postalCode'], color='blue')\n",
    "plt.title('Histogram Distribution of Postal Code')\n",
    "plt.ylabel('Frequency')\n",
    "plt.xlabel('Month Of Postal Code')\n",
    "plt.savefig('')\n",
    "plt.show()"
   ]
  },
  {
   "cell_type": "code",
   "execution_count": 67,
   "id": "b198290b-f535-4ddb-8e7f-9b5f866e9d8a",
   "metadata": {},
   "outputs": [
    {
     "data": {
      "text/html": [
       "<div>\n",
       "<style scoped>\n",
       "    .dataframe tbody tr th:only-of-type {\n",
       "        vertical-align: middle;\n",
       "    }\n",
       "\n",
       "    .dataframe tbody tr th {\n",
       "        vertical-align: top;\n",
       "    }\n",
       "\n",
       "    .dataframe thead th {\n",
       "        text-align: right;\n",
       "    }\n",
       "</style>\n",
       "<table border=\"1\" class=\"dataframe\">\n",
       "  <thead>\n",
       "    <tr style=\"text-align: right;\">\n",
       "      <th></th>\n",
       "      <th>dateCrawled</th>\n",
       "      <th>name</th>\n",
       "      <th>seller</th>\n",
       "      <th>offerType</th>\n",
       "      <th>abtest</th>\n",
       "      <th>vehicleType</th>\n",
       "      <th>gearbox</th>\n",
       "      <th>model</th>\n",
       "      <th>fuelType</th>\n",
       "      <th>brand</th>\n",
       "      <th>notRepairedDamage</th>\n",
       "      <th>dateCreated</th>\n",
       "      <th>lastSeen</th>\n",
       "    </tr>\n",
       "  </thead>\n",
       "  <tbody>\n",
       "    <tr>\n",
       "      <th>0</th>\n",
       "      <td>17/03/2016 16:54</td>\n",
       "      <td>GOLF_4_1_4__3TÜRER</td>\n",
       "      <td>private</td>\n",
       "      <td>offer</td>\n",
       "      <td>test</td>\n",
       "      <td>small car</td>\n",
       "      <td>manual</td>\n",
       "      <td>golf</td>\n",
       "      <td>petrol</td>\n",
       "      <td>volkswagen</td>\n",
       "      <td>no</td>\n",
       "      <td>17/03/2016 0:00</td>\n",
       "      <td>17/03/2016 17:40</td>\n",
       "    </tr>\n",
       "    <tr>\n",
       "      <th>1</th>\n",
       "      <td>31/03/2016 17:25</td>\n",
       "      <td>Skoda_Fabia_1.4_TDI_PD_Classic</td>\n",
       "      <td>private</td>\n",
       "      <td>offer</td>\n",
       "      <td>test</td>\n",
       "      <td>small car</td>\n",
       "      <td>manual</td>\n",
       "      <td>fabia</td>\n",
       "      <td>diesel</td>\n",
       "      <td>skoda</td>\n",
       "      <td>no</td>\n",
       "      <td>31/03/2016 0:00</td>\n",
       "      <td>06/04/2016 10:17</td>\n",
       "    </tr>\n",
       "    <tr>\n",
       "      <th>2</th>\n",
       "      <td>04/04/2016 17:36</td>\n",
       "      <td>BMW_316i___e36_Limousine___Bastlerfahrzeug__Ex...</td>\n",
       "      <td>private</td>\n",
       "      <td>offer</td>\n",
       "      <td>test</td>\n",
       "      <td>limousine</td>\n",
       "      <td>manual</td>\n",
       "      <td>3er</td>\n",
       "      <td>petrol</td>\n",
       "      <td>bmw</td>\n",
       "      <td>yes</td>\n",
       "      <td>04/04/2016 0:00</td>\n",
       "      <td>06/04/2016 19:17</td>\n",
       "    </tr>\n",
       "    <tr>\n",
       "      <th>3</th>\n",
       "      <td>01/04/2016 20:48</td>\n",
       "      <td>Peugeot_206_CC_110_Platinum</td>\n",
       "      <td>private</td>\n",
       "      <td>offer</td>\n",
       "      <td>test</td>\n",
       "      <td>cabrio</td>\n",
       "      <td>manual</td>\n",
       "      <td>2_reihe</td>\n",
       "      <td>petrol</td>\n",
       "      <td>peugeot</td>\n",
       "      <td>no</td>\n",
       "      <td>01/04/2016 0:00</td>\n",
       "      <td>05/04/2016 18:18</td>\n",
       "    </tr>\n",
       "    <tr>\n",
       "      <th>4</th>\n",
       "      <td>21/03/2016 18:54</td>\n",
       "      <td>VW_Derby_Bj_80__Scheunenfund</td>\n",
       "      <td>private</td>\n",
       "      <td>offer</td>\n",
       "      <td>test</td>\n",
       "      <td>limousine</td>\n",
       "      <td>manual</td>\n",
       "      <td>others</td>\n",
       "      <td>petrol</td>\n",
       "      <td>volkswagen</td>\n",
       "      <td>no</td>\n",
       "      <td>21/03/2016 0:00</td>\n",
       "      <td>25/03/2016 16:47</td>\n",
       "    </tr>\n",
       "    <tr>\n",
       "      <th>...</th>\n",
       "      <td>...</td>\n",
       "      <td>...</td>\n",
       "      <td>...</td>\n",
       "      <td>...</td>\n",
       "      <td>...</td>\n",
       "      <td>...</td>\n",
       "      <td>...</td>\n",
       "      <td>...</td>\n",
       "      <td>...</td>\n",
       "      <td>...</td>\n",
       "      <td>...</td>\n",
       "      <td>...</td>\n",
       "      <td>...</td>\n",
       "    </tr>\n",
       "    <tr>\n",
       "      <th>260960</th>\n",
       "      <td>19/03/2016 19:53</td>\n",
       "      <td>turbo_defekt</td>\n",
       "      <td>private</td>\n",
       "      <td>offer</td>\n",
       "      <td>control</td>\n",
       "      <td>limousine</td>\n",
       "      <td>manual</td>\n",
       "      <td>leon</td>\n",
       "      <td>petrol</td>\n",
       "      <td>seat</td>\n",
       "      <td>yes</td>\n",
       "      <td>19/03/2016 0:00</td>\n",
       "      <td>19/03/2016 20:44</td>\n",
       "    </tr>\n",
       "    <tr>\n",
       "      <th>260961</th>\n",
       "      <td>27/03/2016 20:36</td>\n",
       "      <td>Opel_Zafira_1.6_Elegance_TÜV_12/16</td>\n",
       "      <td>private</td>\n",
       "      <td>offer</td>\n",
       "      <td>control</td>\n",
       "      <td>bus</td>\n",
       "      <td>manual</td>\n",
       "      <td>zafira</td>\n",
       "      <td>petrol</td>\n",
       "      <td>opel</td>\n",
       "      <td>no</td>\n",
       "      <td>27/03/2016 0:00</td>\n",
       "      <td>29/03/2016 10:17</td>\n",
       "    </tr>\n",
       "    <tr>\n",
       "      <th>260962</th>\n",
       "      <td>05/03/2016 19:56</td>\n",
       "      <td>Smart_smart_leistungssteigerung_100ps</td>\n",
       "      <td>private</td>\n",
       "      <td>offer</td>\n",
       "      <td>test</td>\n",
       "      <td>cabrio</td>\n",
       "      <td>automatic</td>\n",
       "      <td>fortwo</td>\n",
       "      <td>petrol</td>\n",
       "      <td>smart</td>\n",
       "      <td>no</td>\n",
       "      <td>05/03/2016 0:00</td>\n",
       "      <td>11/03/2016 18:17</td>\n",
       "    </tr>\n",
       "    <tr>\n",
       "      <th>260963</th>\n",
       "      <td>19/03/2016 18:57</td>\n",
       "      <td>Volkswagen_Multivan_T4_TDI_7DC_UY2</td>\n",
       "      <td>private</td>\n",
       "      <td>offer</td>\n",
       "      <td>test</td>\n",
       "      <td>bus</td>\n",
       "      <td>manual</td>\n",
       "      <td>transporter</td>\n",
       "      <td>diesel</td>\n",
       "      <td>volkswagen</td>\n",
       "      <td>no</td>\n",
       "      <td>19/03/2016 0:00</td>\n",
       "      <td>07/04/2016 7:15</td>\n",
       "    </tr>\n",
       "    <tr>\n",
       "      <th>260964</th>\n",
       "      <td>07/03/2016 19:39</td>\n",
       "      <td>BMW_M135i_vollausgestattet_NP_52.720____Euro</td>\n",
       "      <td>private</td>\n",
       "      <td>offer</td>\n",
       "      <td>control</td>\n",
       "      <td>limousine</td>\n",
       "      <td>manual</td>\n",
       "      <td>m_reihe</td>\n",
       "      <td>petrol</td>\n",
       "      <td>bmw</td>\n",
       "      <td>no</td>\n",
       "      <td>07/03/2016 0:00</td>\n",
       "      <td>22/03/2016 3:17</td>\n",
       "    </tr>\n",
       "  </tbody>\n",
       "</table>\n",
       "<p>260965 rows × 13 columns</p>\n",
       "</div>"
      ],
      "text/plain": [
       "             dateCrawled                                               name  \\\n",
       "0       17/03/2016 16:54                                 GOLF_4_1_4__3TÜRER   \n",
       "1       31/03/2016 17:25                     Skoda_Fabia_1.4_TDI_PD_Classic   \n",
       "2       04/04/2016 17:36  BMW_316i___e36_Limousine___Bastlerfahrzeug__Ex...   \n",
       "3       01/04/2016 20:48                        Peugeot_206_CC_110_Platinum   \n",
       "4       21/03/2016 18:54                       VW_Derby_Bj_80__Scheunenfund   \n",
       "...                  ...                                                ...   \n",
       "260960  19/03/2016 19:53                                       turbo_defekt   \n",
       "260961  27/03/2016 20:36                 Opel_Zafira_1.6_Elegance_TÜV_12/16   \n",
       "260962  05/03/2016 19:56              Smart_smart_leistungssteigerung_100ps   \n",
       "260963  19/03/2016 18:57                 Volkswagen_Multivan_T4_TDI_7DC_UY2   \n",
       "260964  07/03/2016 19:39       BMW_M135i_vollausgestattet_NP_52.720____Euro   \n",
       "\n",
       "         seller offerType   abtest vehicleType    gearbox        model  \\\n",
       "0       private     offer     test   small car     manual         golf   \n",
       "1       private     offer     test   small car     manual        fabia   \n",
       "2       private     offer     test   limousine     manual          3er   \n",
       "3       private     offer     test      cabrio     manual      2_reihe   \n",
       "4       private     offer     test   limousine     manual       others   \n",
       "...         ...       ...      ...         ...        ...          ...   \n",
       "260960  private     offer  control   limousine     manual         leon   \n",
       "260961  private     offer  control         bus     manual       zafira   \n",
       "260962  private     offer     test      cabrio  automatic       fortwo   \n",
       "260963  private     offer     test         bus     manual  transporter   \n",
       "260964  private     offer  control   limousine     manual      m_reihe   \n",
       "\n",
       "       fuelType       brand notRepairedDamage      dateCreated  \\\n",
       "0        petrol  volkswagen                no  17/03/2016 0:00   \n",
       "1        diesel       skoda                no  31/03/2016 0:00   \n",
       "2        petrol         bmw               yes  04/04/2016 0:00   \n",
       "3        petrol     peugeot                no  01/04/2016 0:00   \n",
       "4        petrol  volkswagen                no  21/03/2016 0:00   \n",
       "...         ...         ...               ...              ...   \n",
       "260960   petrol        seat               yes  19/03/2016 0:00   \n",
       "260961   petrol        opel                no  27/03/2016 0:00   \n",
       "260962   petrol       smart                no  05/03/2016 0:00   \n",
       "260963   diesel  volkswagen                no  19/03/2016 0:00   \n",
       "260964   petrol         bmw                no  07/03/2016 0:00   \n",
       "\n",
       "                lastSeen  \n",
       "0       17/03/2016 17:40  \n",
       "1       06/04/2016 10:17  \n",
       "2       06/04/2016 19:17  \n",
       "3       05/04/2016 18:18  \n",
       "4       25/03/2016 16:47  \n",
       "...                  ...  \n",
       "260960  19/03/2016 20:44  \n",
       "260961  29/03/2016 10:17  \n",
       "260962  11/03/2016 18:17  \n",
       "260963   07/04/2016 7:15  \n",
       "260964   22/03/2016 3:17  \n",
       "\n",
       "[260965 rows x 13 columns]"
      ]
     },
     "execution_count": 67,
     "metadata": {},
     "output_type": "execute_result"
    }
   ],
   "source": [
    "cat_car_data\n"
   ]
  },
  {
   "cell_type": "code",
   "execution_count": 86,
   "id": "4af0d5ef-98ed-4485-83d1-33396c90a5bb",
   "metadata": {},
   "outputs": [
    {
     "data": {
      "image/png": "[encoded data removed]",
      "text/plain": [
       "<Figure size 640x480 with 1 Axes>"
      ]
     },
     "metadata": {},
     "output_type": "display_data"
    }
   ],
   "source": [
    "sns.barplot(car_data, y='kilometer', x='offerType', hue='seller', errorbar=None)\n",
    "plt.show()"
   ]
  },
  {
   "cell_type": "code",
   "execution_count": 89,
   "id": "cb388754-5d9f-499d-acda-a523800b96ac",
   "metadata": {},
   "outputs": [
    {
     "data": {
      "image/png": "[encoded data removed]",
      "text/plain": [
       "<Figure size 640x480 with 1 Axes>"
      ]
     },
     "metadata": {},
     "output_type": "display_data"
    }
   ],
   "source": [
    "sns.scatterplot(car_data, y='kilometer', x='offerType', hue='notRepairedDamage')\n",
    "plt.title('Relation Between Price and Age Of A Car')\n",
    "plt.xlabel('offer Type')\n",
    "plt.ylabel('Kilometer')\n",
    "\n",
    "plt.show()"
   ]
  },
  {
   "cell_type": "code",
   "execution_count": 95,
   "id": "1ad5cb14-d578-4293-ab06-24347781b1af",
   "metadata": {},
   "outputs": [
    {
     "data": {
      "text/plain": [
       "kilometer\n",
       "150000    161241\n",
       "125000     28761\n",
       "100000     11995\n",
       "90000       9935\n",
       "80000       8907\n",
       "70000       7974\n",
       "60000       7229\n",
       "50000       6369\n",
       "40000       5365\n",
       "30000       4945\n",
       "20000       4358\n",
       "5000        2407\n",
       "10000       1479\n",
       "Name: count, dtype: int64"
      ]
     },
     "execution_count": 95,
     "metadata": {},
     "output_type": "execute_result"
    }
   ],
   "source": [
    "car_data['kilometer'].value_counts()"
   ]
  },
  {
   "cell_type": "code",
   "execution_count": 96,
   "id": "3eda75d6-a5fc-40d6-a368-e9875dfaf544",
   "metadata": {},
   "outputs": [],
   "source": [
    "ypnts=np.array(car_data['kilometer'])"
   ]
  },
  {
   "cell_type": "code",
   "execution_count": 94,
   "id": "5b299f6b-a476-491b-b9e3-b8111bcd3633",
   "metadata": {},
   "outputs": [
    {
     "data": {
      "image/png": "[encoded data removed]",
      "text/plain": [
       "<Figure size 640x480 with 1 Axes>"
      ]
     },
     "metadata": {},
     "output_type": "display_data"
    }
   ],
   "source": [
    "plt.plot(ypnts, linestyle='dashed')\n",
    "plt.show()"
   ]
  },
  {
   "cell_type": "code",
   "execution_count": null,
   "id": "61b7acdf-eb35-4a3c-9d08-04e59772ffd4",
   "metadata": {},
   "outputs": [],
   "source": []
  }
 ],
 "metadata": {
  "kernelspec": {
   "display_name": "Python 3 (ipykernel)",
   "language": "python",
   "name": "python3"
  },
  "language_info": {
   "codemirror_mode": {
    "name": "ipython",
    "version": 3
   },
   "file_extension": ".py",
   "mimetype": "text/x-python",
   "name": "python",
   "nbconvert_exporter": "python",
   "pygments_lexer": "ipython3",
   "version": "3.11.3"
  }
 },
 "nbformat": 4,
 "nbformat_minor": 5
}
